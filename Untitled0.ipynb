{
  "nbformat": 4,
  "nbformat_minor": 0,
  "metadata": {
    "colab": {
      "provenance": [],
      "toc_visible": true,
      "authorship_tag": "ABX9TyPIItQGsgX474ewALYwN6Cd",
      "include_colab_link": true
    },
    "kernelspec": {
      "name": "python3",
      "display_name": "Python 3"
    },
    "language_info": {
      "name": "python"
    }
  },
  "cells": [
    {
      "cell_type": "markdown",
      "metadata": {
        "id": "view-in-github",
        "colab_type": "text"
      },
      "source": [
        "<a href=\"https://colab.research.google.com/github/LeVargas97/LeoCode/blob/main/Untitled0.ipynb\" target=\"_parent\"><img src=\"https://colab.research.google.com/assets/colab-badge.svg\" alt=\"Open In Colab\"/></a>"
      ]
    },
    {
      "cell_type": "code",
      "execution_count": 9,
      "metadata": {
        "id": "tdn3zhYXINqQ"
      },
      "outputs": [],
      "source": [
        "import numpy as np\n",
        "import pandas as pd"
      ]
    },
    {
      "cell_type": "code",
      "source": [
        "#Array unidimensional\n",
        "arr1 = np.array([1, 2, 3, 4, 5])\n"
      ],
      "metadata": {
        "id": "ezebczICIuja"
      },
      "execution_count": 10,
      "outputs": []
    },
    {
      "cell_type": "code",
      "source": [
        "print(arr1)"
      ],
      "metadata": {
        "colab": {
          "base_uri": "https://localhost:8080/"
        },
        "id": "VophiKoRJkec",
        "outputId": "de6d6dcd-24d2-4738-9ffc-757d218c9ba1"
      },
      "execution_count": 11,
      "outputs": [
        {
          "output_type": "stream",
          "name": "stdout",
          "text": [
            "[1 2 3 4 5]\n"
          ]
        }
      ]
    },
    {
      "cell_type": "code",
      "source": [
        "#Array bidimensional\n",
        "arr2 = np.array([[1, 2, 3], [4, 5, 6]])"
      ],
      "metadata": {
        "id": "yXDBmp-zJzan"
      },
      "execution_count": 12,
      "outputs": []
    },
    {
      "cell_type": "code",
      "source": [
        "print(arr2)"
      ],
      "metadata": {
        "colab": {
          "base_uri": "https://localhost:8080/"
        },
        "id": "jr1VE1GTK0Xe",
        "outputId": "2605a195-2093-4439-f7be-f89931b2b548"
      },
      "execution_count": 13,
      "outputs": [
        {
          "output_type": "stream",
          "name": "stdout",
          "text": [
            "[[1 2 3]\n",
            " [4 5 6]]\n"
          ]
        }
      ]
    },
    {
      "cell_type": "code",
      "source": [
        "#Array tipado\n",
        "arr3 = np.array([1, 2, 3, 4, 5], dtype=np.float16)"
      ],
      "metadata": {
        "id": "T8NVXr2vLB80"
      },
      "execution_count": 14,
      "outputs": []
    },
    {
      "cell_type": "code",
      "source": [
        "print(arr3)"
      ],
      "metadata": {
        "colab": {
          "base_uri": "https://localhost:8080/"
        },
        "id": "AADjN-eyLkMZ",
        "outputId": "03f20cf1-3ac9-45a7-d74b-58666ce4b711"
      },
      "execution_count": 15,
      "outputs": [
        {
          "output_type": "stream",
          "name": "stdout",
          "text": [
            "[1. 2. 3. 4. 5.]\n"
          ]
        }
      ]
    },
    {
      "cell_type": "code",
      "source": [
        "#Array de zeros feito para Inicializar variáveis em simulações ou cálculos que precisam de um ponto de partida neutro.\n",
        "arr_zeros = np.zeros((2, 3))\n",
        "print(arr_zeros)"
      ],
      "metadata": {
        "colab": {
          "base_uri": "https://localhost:8080/"
        },
        "id": "TNGtA5LLMEVt",
        "outputId": "7e67f2f2-571e-4e43-e154-8d8b4ca9b008"
      },
      "execution_count": 16,
      "outputs": [
        {
          "output_type": "stream",
          "name": "stdout",
          "text": [
            "[[0. 0. 0.]\n",
            " [0. 0. 0.]]\n"
          ]
        }
      ]
    },
    {
      "cell_type": "code",
      "source": [
        "arr_ones = np.ones((3, 2))\n",
        "print(arr_ones)"
      ],
      "metadata": {
        "colab": {
          "base_uri": "https://localhost:8080/"
        },
        "id": "E3Cq9xVfMFyJ",
        "outputId": "00c52905-5b04-4986-e655-1fab9c16a381"
      },
      "execution_count": 17,
      "outputs": [
        {
          "output_type": "stream",
          "name": "stdout",
          "text": [
            "[[1. 1.]\n",
            " [1. 1.]\n",
            " [1. 1.]]\n"
          ]
        }
      ]
    },
    {
      "cell_type": "code",
      "source": [
        "arr_random = np.random.rand(2, 3)\n",
        "print(arr_random)"
      ],
      "metadata": {
        "colab": {
          "base_uri": "https://localhost:8080/"
        },
        "id": "AnFPRy9LMS__",
        "outputId": "90afccee-3368-4b98-f9c5-ad4bd46197ca"
      },
      "execution_count": 18,
      "outputs": [
        {
          "output_type": "stream",
          "name": "stdout",
          "text": [
            "[[0.25954976 0.28883987 0.01089725]\n",
            " [0.82480709 0.82871136 0.60439195]]\n"
          ]
        }
      ]
    },
    {
      "cell_type": "code",
      "source": [
        "#Multiplicação de arrays\n",
        "array1 = np.array([1,2,3,4,5])\n",
        "array2 = np.array([6,7,8,9,10])\n",
        "\n",
        "resultadoMultiplicação = np.dot(array1, array2)\n",
        "print (\"Resultado da Multiplicação do Array é: \" + str(resultadoMultiplicação))"
      ],
      "metadata": {
        "id": "QRjb-_jATjpB",
        "colab": {
          "base_uri": "https://localhost:8080/"
        },
        "outputId": "62ba7f4d-8da9-4f89-a290-26c9b9994fca"
      },
      "execution_count": 24,
      "outputs": [
        {
          "output_type": "stream",
          "name": "stdout",
          "text": [
            "Resultado da Multiplicação do Array é: 130\n"
          ]
        }
      ]
    },
    {
      "cell_type": "code",
      "source": [
        "transposed_arr = arr2.T\n",
        "print(transposed_arr)"
      ],
      "metadata": {
        "colab": {
          "base_uri": "https://localhost:8080/"
        },
        "id": "ta4g4jQiaSM2",
        "outputId": "24065cc8-ec50-4353-86fa-18a10b51743c"
      },
      "execution_count": 26,
      "outputs": [
        {
          "output_type": "stream",
          "name": "stdout",
          "text": [
            "[[1 4]\n",
            " [2 5]\n",
            " [3 6]]\n"
          ]
        }
      ]
    },
    {
      "cell_type": "code",
      "source": [
        "\n",
        "categoria_planeta = input(\"Digite o nome do Planeta: \")\n",
        "\n",
        "\n",
        "if  categoria_planeta[0] == \"P\" and categoria_planeta == \"Plutao\":\n",
        " print(\"Plutao é o planeta\")\n",
        "else:\n",
        "  print(\"Não é Planeta Plutao\")"
      ],
      "metadata": {
        "colab": {
          "base_uri": "https://localhost:8080/"
        },
        "id": "Wj3_XW8oWO5c",
        "outputId": "08de2992-9842-4fec-f1a2-65874e6be334"
      },
      "execution_count": 35,
      "outputs": [
        {
          "output_type": "stream",
          "name": "stdout",
          "text": [
            "Digite o nome do Planeta: Planeta\n",
            "Não é Planeta Plutao\n"
          ]
        }
      ]
    },
    {
      "cell_type": "code",
      "source": [
        "idades = np.array([10,20,30,40,50,60])\n",
        "\n",
        "media_idades = np.mean(idades)\n",
        "\n",
        "#print(media_idades)\n"
      ],
      "metadata": {
        "id": "q2KcYF0FlKit"
      },
      "execution_count": 55,
      "outputs": []
    },
    {
      "cell_type": "code",
      "source": [
        "\n",
        "media_idades = np.max(idades)\n",
        "\n",
        "print(media_idades)"
      ],
      "metadata": {
        "colab": {
          "base_uri": "https://localhost:8080/"
        },
        "id": "8F0ojEqEpuju",
        "outputId": "92ce2ceb-b60a-4b09-b281-1e4bb40a38f8"
      },
      "execution_count": 43,
      "outputs": [
        {
          "output_type": "stream",
          "name": "stdout",
          "text": [
            "60\n"
          ]
        }
      ]
    },
    {
      "cell_type": "code",
      "source": [
        "media_idades = np.min(idades)\n",
        "\n",
        "print(media_idades)"
      ],
      "metadata": {
        "colab": {
          "base_uri": "https://localhost:8080/"
        },
        "id": "Z4judeocqJoZ",
        "outputId": "699c4c73-de55-484b-e682-1b8346b083a3"
      },
      "execution_count": 44,
      "outputs": [
        {
          "output_type": "stream",
          "name": "stdout",
          "text": [
            "10\n"
          ]
        }
      ]
    },
    {
      "cell_type": "code",
      "source": [
        "idadeMaior = idades[idades > 30]\n",
        "\n",
        "print(idadeMaior)"
      ],
      "metadata": {
        "colab": {
          "base_uri": "https://localhost:8080/"
        },
        "id": "YA2eYytHqjhw",
        "outputId": "317ec5b1-0f48-4928-9c08-0a9c6d0d68f9"
      },
      "execution_count": 56,
      "outputs": [
        {
          "output_type": "stream",
          "name": "stdout",
          "text": [
            "[40 50 60]\n"
          ]
        }
      ]
    },
    {
      "cell_type": "code",
      "source": [
        "media_idades =idades + 2\n",
        "\n",
        "print(media_idades)"
      ],
      "metadata": {
        "colab": {
          "base_uri": "https://localhost:8080/"
        },
        "id": "iUo6qehptlWk",
        "outputId": "16437223-9114-4b72-966e-94a9220f4b24"
      },
      "execution_count": 61,
      "outputs": [
        {
          "output_type": "stream",
          "name": "stdout",
          "text": [
            "[12 22 32 42 52 62]\n"
          ]
        }
      ]
    },
    {
      "cell_type": "code",
      "source": [
        "media_idades = np.median(idades)\n",
        "\n",
        "print(media_idades)"
      ],
      "metadata": {
        "colab": {
          "base_uri": "https://localhost:8080/"
        },
        "id": "cnYnFDGYu-4P",
        "outputId": "1a9017b3-5012-44f3-87a0-7e54353edc1b"
      },
      "execution_count": 62,
      "outputs": [
        {
          "output_type": "stream",
          "name": "stdout",
          "text": [
            "35.0\n"
          ]
        }
      ]
    },
    {
      "cell_type": "code",
      "source": [],
      "metadata": {
        "id": "w1HebDXAwCOx"
      },
      "execution_count": null,
      "outputs": []
    },
    {
      "cell_type": "markdown",
      "source": [
        "# Nova seção"
      ],
      "metadata": {
        "id": "hx-FyFVrwGqS"
      }
    }
  ]
}