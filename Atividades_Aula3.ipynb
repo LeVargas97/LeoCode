{
  "nbformat": 4,
  "nbformat_minor": 0,
  "metadata": {
    "colab": {
      "provenance": [],
      "authorship_tag": "ABX9TyMWsMXRPX9rjaKVBR/TT9J2",
      "include_colab_link": true
    },
    "kernelspec": {
      "name": "python3",
      "display_name": "Python 3"
    },
    "language_info": {
      "name": "python"
    }
  },
  "cells": [
    {
      "cell_type": "markdown",
      "metadata": {
        "id": "view-in-github",
        "colab_type": "text"
      },
      "source": [
        "<a href=\"https://colab.research.google.com/github/LeVargas97/LeoCode/blob/main/Atividades_Aula3.ipynb\" target=\"_parent\"><img src=\"https://colab.research.google.com/assets/colab-badge.svg\" alt=\"Open In Colab\"/></a>"
      ]
    },
    {
      "cell_type": "code",
      "execution_count": 1,
      "metadata": {
        "id": "qnNQLp70tCfC"
      },
      "outputs": [],
      "source": [
        "import numpy as np\n",
        "import pandas as pd"
      ]
    },
    {
      "cell_type": "code",
      "source": [
        "data = {\n",
        "    'Nome': ['Carlos', 'Lucia', 'Rafael'],\n",
        "    'Nota1':[8.0, 7.5, 9.0],\n",
        "    'Nota2':[8.5, 7.0, 9.5]\n",
        "    }\n",
        "df = pd.DataFrame(data)\n",
        "print(df)"
      ],
      "metadata": {
        "colab": {
          "base_uri": "https://localhost:8080/"
        },
        "id": "tuGyt2XQtmzr",
        "outputId": "01202e0c-a425-4a9c-8708-790c8df0dbf2"
      },
      "execution_count": 5,
      "outputs": [
        {
          "output_type": "stream",
          "name": "stdout",
          "text": [
            "     Nome  Nota1  Nota2\n",
            "0  Carlos    8.0    8.5\n",
            "1   Lucia    7.5    7.0\n",
            "2  Rafael    9.0    9.5\n"
          ]
        }
      ]
    },
    {
      "cell_type": "code",
      "source": [
        "df['NotaFinal'] = (df['Nota1'] + df['Nota2']) / 2\n",
        "print(df)\n"
      ],
      "metadata": {
        "colab": {
          "base_uri": "https://localhost:8080/"
        },
        "id": "5uxS_ZEQvV2a",
        "outputId": "cf61c816-5c03-4b65-9441-808f3ef01a9d"
      },
      "execution_count": 8,
      "outputs": [
        {
          "output_type": "stream",
          "name": "stdout",
          "text": [
            "     Nome  Nota1  Nota2  NotaFinal\n",
            "0  Carlos    8.0    8.5       8.25\n",
            "1   Lucia    7.5    7.0       7.25\n",
            "2  Rafael    9.0    9.5       9.25\n"
          ]
        }
      ]
    },
    {
      "cell_type": "code",
      "source": [
        "df = df.drop('Nota2', axis=1)\n",
        "print(df)\n"
      ],
      "metadata": {
        "colab": {
          "base_uri": "https://localhost:8080/"
        },
        "id": "Mbqffp7kvyzz",
        "outputId": "44370aa1-cc94-4590-e1a8-14ce1d7a536e"
      },
      "execution_count": 9,
      "outputs": [
        {
          "output_type": "stream",
          "name": "stdout",
          "text": [
            "     Nome  Nota1  NotaFinal\n",
            "0  Carlos    8.0       8.25\n",
            "1   Lucia    7.5       7.25\n",
            "2  Rafael    9.0       9.25\n"
          ]
        }
      ]
    },
    {
      "cell_type": "code",
      "source": [],
      "metadata": {
        "id": "hG7-LAsbxNGj"
      },
      "execution_count": null,
      "outputs": []
    },
    {
      "cell_type": "markdown",
      "source": [
        "produto a,b,c\n",
        "Valores 10, 20, 15\n",
        "preço 5.0, 10.0, 7.0"
      ],
      "metadata": {
        "id": "8wv76xpxxQnm"
      }
    },
    {
      "cell_type": "code",
      "source": [
        "data_produto = {\n",
        "    'Produto': ['A', 'B', 'C'],\n",
        "    'Quantidade': [10, 20, 15],\n",
        "    'Preço': [5.0, 10.0, 7.0]\n",
        "}\n",
        "df_produto = pd.DataFrame(data_produto)\n",
        "print(df_produto)\n"
      ],
      "metadata": {
        "colab": {
          "base_uri": "https://localhost:8080/"
        },
        "id": "iUrgZBX_xMxk",
        "outputId": "ee2fdff3-0dd9-4802-bc84-622ec6db23e0"
      },
      "execution_count": 12,
      "outputs": [
        {
          "output_type": "stream",
          "name": "stdout",
          "text": [
            "  Produto  Quantidade  Preço\n",
            "0       A          10    5.0\n",
            "1       B          20   10.0\n",
            "2       C          15    7.0\n"
          ]
        }
      ]
    },
    {
      "cell_type": "code",
      "source": [
        "df_produto['Valor_Total'] = df_produto['Quantidade'] * df_produto['Preço']\n",
        "\n",
        "print(df_produto)\n",
        "\n",
        "valor_total_vendas = df_produto['Valor_Total'].sum()\n",
        "\n",
        "print(f'Valor total das vendas: {valor_total_vendas}')\n"
      ],
      "metadata": {
        "colab": {
          "base_uri": "https://localhost:8080/"
        },
        "id": "3i7x8VlrxuYf",
        "outputId": "66b2cfb0-ee19-444b-ee48-36b47130a843"
      },
      "execution_count": 14,
      "outputs": [
        {
          "output_type": "stream",
          "name": "stdout",
          "text": [
            "  Produto  Quantidade  Preço  Valor_Total\n",
            "0       A          10    5.0         50.0\n",
            "1       B          20   10.0        200.0\n",
            "2       C          15    7.0        105.0\n",
            "Valor total das vendas: 355.0\n"
          ]
        }
      ]
    },
    {
      "cell_type": "code",
      "source": [
        "produto_maior_venda = df_produto.loc[df_produto['Valor_Total'].idxmax()]\n",
        "\n",
        "print(f'Produto com maior total de vendas: {produto_maior_venda[\"Produto\"]}')\n"
      ],
      "metadata": {
        "colab": {
          "base_uri": "https://localhost:8080/"
        },
        "id": "nwpnXU5xyMg6",
        "outputId": "0c7294f2-7af6-473f-908d-e3a2a771d0c7"
      },
      "execution_count": 15,
      "outputs": [
        {
          "output_type": "stream",
          "name": "stdout",
          "text": [
            "Produto com maior total de vendas: B\n"
          ]
        }
      ]
    }
  ]
}