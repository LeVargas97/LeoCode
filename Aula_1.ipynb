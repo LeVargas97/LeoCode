{
  "nbformat": 4,
  "nbformat_minor": 0,
  "metadata": {
    "colab": {
      "provenance": [],
      "toc_visible": true,
      "include_colab_link": true
    },
    "kernelspec": {
      "name": "python3",
      "display_name": "Python 3"
    },
    "language_info": {
      "name": "python"
    }
  },
  "cells": [
    {
      "cell_type": "markdown",
      "metadata": {
        "id": "view-in-github",
        "colab_type": "text"
      },
      "source": [
        "<a href=\"https://colab.research.google.com/github/LeVargas97/LeoCode/blob/main/Aula_1.ipynb\" target=\"_parent\"><img src=\"https://colab.research.google.com/assets/colab-badge.svg\" alt=\"Open In Colab\"/></a>"
      ]
    },
    {
      "cell_type": "code",
      "execution_count": null,
      "metadata": {
        "id": "tdn3zhYXINqQ"
      },
      "outputs": [],
      "source": [
        "import numpy as np\n",
        "import pandas as pd"
      ]
    },
    {
      "cell_type": "code",
      "source": [
        "#Array unidimensional\n",
        "arr1 = np.array([1, 2, 3, 4, 5])\n"
      ],
      "metadata": {
        "id": "ezebczICIuja"
      },
      "execution_count": null,
      "outputs": []
    },
    {
      "cell_type": "code",
      "source": [
        "print(arr1)"
      ],
      "metadata": {
        "colab": {
          "base_uri": "https://localhost:8080/"
        },
        "id": "VophiKoRJkec",
        "outputId": "2e23401d-b9ba-44c7-a21b-bac6541980f2"
      },
      "execution_count": null,
      "outputs": [
        {
          "output_type": "stream",
          "name": "stdout",
          "text": [
            "[1 2 3 4 5]\n"
          ]
        }
      ]
    },
    {
      "cell_type": "code",
      "source": [
        "#Array bidimensional\n",
        "arr2 = np.array([[1, 2, 3], [4, 5, 6]])"
      ],
      "metadata": {
        "id": "yXDBmp-zJzan"
      },
      "execution_count": null,
      "outputs": []
    },
    {
      "cell_type": "code",
      "source": [
        "print(arr2)"
      ],
      "metadata": {
        "colab": {
          "base_uri": "https://localhost:8080/"
        },
        "id": "jr1VE1GTK0Xe",
        "outputId": "e0aa3d6e-4cb6-4e11-dbdb-acf04e527712"
      },
      "execution_count": null,
      "outputs": [
        {
          "output_type": "stream",
          "name": "stdout",
          "text": [
            "[[1 2 3]\n",
            " [4 5 6]]\n"
          ]
        }
      ]
    },
    {
      "cell_type": "code",
      "source": [
        "#Array tipado\n",
        "arr3 = np.array([1, 2, 3, 4, 5], dtype=np.float16)"
      ],
      "metadata": {
        "id": "T8NVXr2vLB80"
      },
      "execution_count": null,
      "outputs": []
    },
    {
      "cell_type": "code",
      "source": [
        "print(arr3)"
      ],
      "metadata": {
        "colab": {
          "base_uri": "https://localhost:8080/"
        },
        "id": "AADjN-eyLkMZ",
        "outputId": "8d2479c8-9bf1-43da-f7a6-36fdf2859470"
      },
      "execution_count": null,
      "outputs": [
        {
          "output_type": "stream",
          "name": "stdout",
          "text": [
            "[1. 2. 3. 4. 5.]\n"
          ]
        }
      ]
    },
    {
      "cell_type": "code",
      "source": [
        "#Array de zeros feito para Inicializar variáveis em simulações ou cálculos que precisam de um ponto de partida neutro.\n",
        "arr_zeros = np.zeros((2, 3))\n",
        "print(arr_zeros)"
      ],
      "metadata": {
        "colab": {
          "base_uri": "https://localhost:8080/"
        },
        "id": "TNGtA5LLMEVt",
        "outputId": "5da6f56e-2bae-4a82-d9e1-836e4691c2dc"
      },
      "execution_count": null,
      "outputs": [
        {
          "output_type": "stream",
          "name": "stdout",
          "text": [
            "[[0. 0. 0.]\n",
            " [0. 0. 0.]]\n"
          ]
        }
      ]
    },
    {
      "cell_type": "code",
      "source": [
        "arr_ones = np.ones((3, 2))\n",
        "print(arr_ones)"
      ],
      "metadata": {
        "colab": {
          "base_uri": "https://localhost:8080/"
        },
        "id": "E3Cq9xVfMFyJ",
        "outputId": "25db5047-308a-4066-fb16-1826ea1be409"
      },
      "execution_count": null,
      "outputs": [
        {
          "output_type": "stream",
          "name": "stdout",
          "text": [
            "[[1. 1.]\n",
            " [1. 1.]\n",
            " [1. 1.]]\n"
          ]
        }
      ]
    },
    {
      "cell_type": "code",
      "source": [
        "arr_random = np.random.rand(2, 3)\n",
        "print(arr_random)"
      ],
      "metadata": {
        "colab": {
          "base_uri": "https://localhost:8080/"
        },
        "id": "AnFPRy9LMS__",
        "outputId": "2bc1ab95-246a-4e0c-f391-44f239198a4a"
      },
      "execution_count": null,
      "outputs": [
        {
          "output_type": "stream",
          "name": "stdout",
          "text": [
            "[[0.4746691  0.61377441 0.91928683]\n",
            " [0.47116571 0.9575876  0.35815285]]\n"
          ]
        }
      ]
    },
    {
      "cell_type": "code",
      "source": [
        "#Multiplicação de arrays\n",
        "arr_matrix_mult = np.dot(arr2, arr2.T)"
      ],
      "metadata": {
        "id": "QRjb-_jATjpB"
      },
      "execution_count": null,
      "outputs": []
    }
  ]
}