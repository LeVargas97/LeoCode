{
  "nbformat": 4,
  "nbformat_minor": 0,
  "metadata": {
    "colab": {
      "provenance": [],
      "authorship_tag": "ABX9TyMgMg2th/oSMXxMJ5qOASgV",
      "include_colab_link": true
    },
    "kernelspec": {
      "name": "python3",
      "display_name": "Python 3"
    },
    "language_info": {
      "name": "python"
    }
  },
  "cells": [
    {
      "cell_type": "markdown",
      "metadata": {
        "id": "view-in-github",
        "colab_type": "text"
      },
      "source": [
        "<a href=\"https://colab.research.google.com/github/LeVargas97/LeoCode/blob/main/Sharepoint.ipynb\" target=\"_parent\"><img src=\"https://colab.research.google.com/assets/colab-badge.svg\" alt=\"Open In Colab\"/></a>"
      ]
    },
    {
      "cell_type": "code",
      "execution_count": 6,
      "metadata": {
        "colab": {
          "base_uri": "https://localhost:8080/"
        },
        "id": "MtZ5uaz0s0Kc",
        "outputId": "771ed879-1517-46bc-dec8-6bba90002450"
      },
      "outputs": [
        {
          "output_type": "stream",
          "name": "stdout",
          "text": [
            "Requirement already satisfied: pip in /usr/local/lib/python3.10/dist-packages (24.2)\n",
            "Requirement already satisfied: Office365-REST-Python-Client in /usr/local/lib/python3.10/dist-packages (2.5.13)\n",
            "Requirement already satisfied: requests in /usr/local/lib/python3.10/dist-packages (from Office365-REST-Python-Client) (2.32.3)\n",
            "Requirement already satisfied: msal in /usr/local/lib/python3.10/dist-packages (from Office365-REST-Python-Client) (1.31.0)\n",
            "Requirement already satisfied: pytz in /usr/local/lib/python3.10/dist-packages (from Office365-REST-Python-Client) (2024.2)\n",
            "Requirement already satisfied: typing-extensions>=4.0.0 in /usr/local/lib/python3.10/dist-packages (from Office365-REST-Python-Client) (4.12.2)\n",
            "Requirement already satisfied: PyJWT<3,>=1.0.0 in /usr/local/lib/python3.10/dist-packages (from PyJWT[crypto]<3,>=1.0.0->msal->Office365-REST-Python-Client) (2.9.0)\n",
            "Requirement already satisfied: cryptography<46,>=2.5 in /usr/local/lib/python3.10/dist-packages (from msal->Office365-REST-Python-Client) (43.0.1)\n",
            "Requirement already satisfied: charset-normalizer<4,>=2 in /usr/local/lib/python3.10/dist-packages (from requests->Office365-REST-Python-Client) (3.3.2)\n",
            "Requirement already satisfied: idna<4,>=2.5 in /usr/local/lib/python3.10/dist-packages (from requests->Office365-REST-Python-Client) (3.10)\n",
            "Requirement already satisfied: urllib3<3,>=1.21.1 in /usr/local/lib/python3.10/dist-packages (from requests->Office365-REST-Python-Client) (2.2.3)\n",
            "Requirement already satisfied: certifi>=2017.4.17 in /usr/local/lib/python3.10/dist-packages (from requests->Office365-REST-Python-Client) (2024.8.30)\n",
            "Requirement already satisfied: cffi>=1.12 in /usr/local/lib/python3.10/dist-packages (from cryptography<46,>=2.5->msal->Office365-REST-Python-Client) (1.17.1)\n",
            "Requirement already satisfied: pycparser in /usr/local/lib/python3.10/dist-packages (from cffi>=1.12->cryptography<46,>=2.5->msal->Office365-REST-Python-Client) (2.22)\n",
            "Requirement already satisfied: Office365-REST-Python-Client in /usr/local/lib/python3.10/dist-packages (2.5.13)\n",
            "Requirement already satisfied: requests in /usr/local/lib/python3.10/dist-packages (from Office365-REST-Python-Client) (2.32.3)\n",
            "Requirement already satisfied: msal in /usr/local/lib/python3.10/dist-packages (from Office365-REST-Python-Client) (1.31.0)\n",
            "Requirement already satisfied: pytz in /usr/local/lib/python3.10/dist-packages (from Office365-REST-Python-Client) (2024.2)\n",
            "Requirement already satisfied: typing-extensions>=4.0.0 in /usr/local/lib/python3.10/dist-packages (from Office365-REST-Python-Client) (4.12.2)\n",
            "Requirement already satisfied: PyJWT<3,>=1.0.0 in /usr/local/lib/python3.10/dist-packages (from PyJWT[crypto]<3,>=1.0.0->msal->Office365-REST-Python-Client) (2.9.0)\n",
            "Requirement already satisfied: cryptography<46,>=2.5 in /usr/local/lib/python3.10/dist-packages (from msal->Office365-REST-Python-Client) (43.0.1)\n",
            "Requirement already satisfied: charset-normalizer<4,>=2 in /usr/local/lib/python3.10/dist-packages (from requests->Office365-REST-Python-Client) (3.3.2)\n",
            "Requirement already satisfied: idna<4,>=2.5 in /usr/local/lib/python3.10/dist-packages (from requests->Office365-REST-Python-Client) (3.10)\n",
            "Requirement already satisfied: urllib3<3,>=1.21.1 in /usr/local/lib/python3.10/dist-packages (from requests->Office365-REST-Python-Client) (2.2.3)\n",
            "Requirement already satisfied: certifi>=2017.4.17 in /usr/local/lib/python3.10/dist-packages (from requests->Office365-REST-Python-Client) (2024.8.30)\n",
            "Requirement already satisfied: cffi>=1.12 in /usr/local/lib/python3.10/dist-packages (from cryptography<46,>=2.5->msal->Office365-REST-Python-Client) (1.17.1)\n",
            "Requirement already satisfied: pycparser in /usr/local/lib/python3.10/dist-packages (from cffi>=1.12->cryptography<46,>=2.5->msal->Office365-REST-Python-Client) (2.22)\n"
          ]
        }
      ],
      "source": [
        "!pip install --upgrade pip\n",
        "!pip install Office365-REST-Python-Client\n",
        "!pip install --upgrade Office365-REST-Python-Client"
      ]
    },
    {
      "cell_type": "code",
      "source": [
        "from office365.runtime.auth.authentication_context import AuthenticationContext\n",
        "from office365.sharepoint.client_context import ClientContext\n",
        "from office365.sharepoint.listitems.listitem import ListItem\n",
        "import os\n",
        "import time\n",
        "import sys\n",
        "\n",
        "\n"
      ],
      "metadata": {
        "id": "nsN5LhFsvl6o"
      },
      "execution_count": 7,
      "outputs": []
    },
    {
      "cell_type": "code",
      "source": [
        "# Configurações de autenticação\n",
        "site_url = 'www.sharepoint.com.br'\n",
        "username = 'Leonardo'\n",
        "password = 'senhasegura'\n"
      ],
      "metadata": {
        "id": "GEBbNssbv0s_"
      },
      "execution_count": 10,
      "outputs": []
    },
    {
      "cell_type": "code",
      "source": [
        "ctx_auth = AuthenticationContext(site_url)\n",
        "if ctx_auth.acquire_token_for_user(username, password):\n",
        "  ctx = ClientContext(site_url, ctx_auth)\n",
        "  web = ctx.web\n",
        "  ctx.load(web)\n",
        "  ctx.execute_query()\n",
        "else:\n",
        "  print(ctx_auth.get_last_error())\n",
        "  sys.exit()"
      ],
      "metadata": {
        "colab": {
          "base_uri": "https://localhost:8080/",
          "height": 356
        },
        "id": "LKAABw65wUpZ",
        "outputId": "558cbeda-3e08-4760-cc99-a61d4939e5c7"
      },
      "execution_count": 11,
      "outputs": [
        {
          "output_type": "error",
          "ename": "IndexError",
          "evalue": "list index out of range",
          "traceback": [
            "\u001b[0;31m---------------------------------------------------------------------------\u001b[0m",
            "\u001b[0;31mIndexError\u001b[0m                                Traceback (most recent call last)",
            "\u001b[0;32m<ipython-input-11-831917a34b34>\u001b[0m in \u001b[0;36m<cell line: 2>\u001b[0;34m()\u001b[0m\n\u001b[1;32m      1\u001b[0m \u001b[0mctx_auth\u001b[0m \u001b[0;34m=\u001b[0m \u001b[0mAuthenticationContext\u001b[0m\u001b[0;34m(\u001b[0m\u001b[0msite_url\u001b[0m\u001b[0;34m)\u001b[0m\u001b[0;34m\u001b[0m\u001b[0;34m\u001b[0m\u001b[0m\n\u001b[0;32m----> 2\u001b[0;31m \u001b[0;32mif\u001b[0m \u001b[0mctx_auth\u001b[0m\u001b[0;34m.\u001b[0m\u001b[0macquire_token_for_user\u001b[0m\u001b[0;34m(\u001b[0m\u001b[0musername\u001b[0m\u001b[0;34m,\u001b[0m \u001b[0mpassword\u001b[0m\u001b[0;34m)\u001b[0m\u001b[0;34m:\u001b[0m\u001b[0;34m\u001b[0m\u001b[0;34m\u001b[0m\u001b[0m\n\u001b[0m\u001b[1;32m      3\u001b[0m   \u001b[0mctx\u001b[0m \u001b[0;34m=\u001b[0m \u001b[0mClientContext\u001b[0m\u001b[0;34m(\u001b[0m\u001b[0msite_url\u001b[0m\u001b[0;34m,\u001b[0m \u001b[0mctx_auth\u001b[0m\u001b[0;34m)\u001b[0m\u001b[0;34m\u001b[0m\u001b[0;34m\u001b[0m\u001b[0m\n\u001b[1;32m      4\u001b[0m   \u001b[0mweb\u001b[0m \u001b[0;34m=\u001b[0m \u001b[0mctx\u001b[0m\u001b[0;34m.\u001b[0m\u001b[0mweb\u001b[0m\u001b[0;34m\u001b[0m\u001b[0;34m\u001b[0m\u001b[0m\n\u001b[1;32m      5\u001b[0m   \u001b[0mctx\u001b[0m\u001b[0;34m.\u001b[0m\u001b[0mload\u001b[0m\u001b[0;34m(\u001b[0m\u001b[0mweb\u001b[0m\u001b[0;34m)\u001b[0m\u001b[0;34m\u001b[0m\u001b[0;34m\u001b[0m\u001b[0m\n",
            "\u001b[0;32m/usr/local/lib/python3.10/dist-packages/office365/runtime/auth/authentication_context.py\u001b[0m in \u001b[0;36macquire_token_for_user\u001b[0;34m(self, username, password, browser_mode)\u001b[0m\n\u001b[1;32m    217\u001b[0m         \u001b[0;34m:\u001b[0m\u001b[0mparam\u001b[0m \u001b[0mbool\u001b[0m \u001b[0mbrowser_mode\u001b[0m\u001b[0;34m:\u001b[0m\u001b[0;34m\u001b[0m\u001b[0;34m\u001b[0m\u001b[0m\n\u001b[1;32m    218\u001b[0m         \"\"\"\n\u001b[0;32m--> 219\u001b[0;31m         \u001b[0mprovider\u001b[0m \u001b[0;34m=\u001b[0m \u001b[0mSamlTokenProvider\u001b[0m\u001b[0;34m(\u001b[0m\u001b[0mself\u001b[0m\u001b[0;34m.\u001b[0m\u001b[0murl\u001b[0m\u001b[0;34m,\u001b[0m \u001b[0musername\u001b[0m\u001b[0;34m,\u001b[0m \u001b[0mpassword\u001b[0m\u001b[0;34m,\u001b[0m \u001b[0mbrowser_mode\u001b[0m\u001b[0;34m)\u001b[0m\u001b[0;34m\u001b[0m\u001b[0;34m\u001b[0m\u001b[0m\n\u001b[0m\u001b[1;32m    220\u001b[0m \u001b[0;34m\u001b[0m\u001b[0m\n\u001b[1;32m    221\u001b[0m         \u001b[0;32mdef\u001b[0m \u001b[0m_authenticate\u001b[0m\u001b[0;34m(\u001b[0m\u001b[0mrequest\u001b[0m\u001b[0;34m)\u001b[0m\u001b[0;34m:\u001b[0m\u001b[0;34m\u001b[0m\u001b[0;34m\u001b[0m\u001b[0m\n",
            "\u001b[0;32m/usr/local/lib/python3.10/dist-packages/office365/runtime/auth/providers/saml_token_provider.py\u001b[0m in \u001b[0;36m__init__\u001b[0;34m(self, url, username, password, browser_mode, environment)\u001b[0m\n\u001b[1;32m     53\u001b[0m         \"\"\"\n\u001b[1;32m     54\u001b[0m         \u001b[0;31m# Security Token Service info\u001b[0m\u001b[0;34m\u001b[0m\u001b[0;34m\u001b[0m\u001b[0m\n\u001b[0;32m---> 55\u001b[0;31m         \u001b[0mself\u001b[0m\u001b[0;34m.\u001b[0m\u001b[0m_sts_profile\u001b[0m \u001b[0;34m=\u001b[0m \u001b[0mSTSProfile\u001b[0m\u001b[0;34m(\u001b[0m\u001b[0mresolve_base_url\u001b[0m\u001b[0;34m(\u001b[0m\u001b[0murl\u001b[0m\u001b[0;34m)\u001b[0m\u001b[0;34m,\u001b[0m \u001b[0menvironment\u001b[0m\u001b[0;34m)\u001b[0m\u001b[0;34m\u001b[0m\u001b[0;34m\u001b[0m\u001b[0m\n\u001b[0m\u001b[1;32m     56\u001b[0m         \u001b[0;31m# Obtain authentication cookies, using the browser mode\u001b[0m\u001b[0;34m\u001b[0m\u001b[0;34m\u001b[0m\u001b[0m\n\u001b[1;32m     57\u001b[0m         \u001b[0mself\u001b[0m\u001b[0;34m.\u001b[0m\u001b[0m_browser_mode\u001b[0m \u001b[0;34m=\u001b[0m \u001b[0mbrowser_mode\u001b[0m\u001b[0;34m\u001b[0m\u001b[0;34m\u001b[0m\u001b[0m\n",
            "\u001b[0;32m/usr/local/lib/python3.10/dist-packages/office365/runtime/auth/providers/saml_token_provider.py\u001b[0m in \u001b[0;36mresolve_base_url\u001b[0;34m(url)\u001b[0m\n\u001b[1;32m     17\u001b[0m \u001b[0;32mdef\u001b[0m \u001b[0mresolve_base_url\u001b[0m\u001b[0;34m(\u001b[0m\u001b[0murl\u001b[0m\u001b[0;34m)\u001b[0m\u001b[0;34m:\u001b[0m\u001b[0;34m\u001b[0m\u001b[0;34m\u001b[0m\u001b[0m\n\u001b[1;32m     18\u001b[0m     \u001b[0mparts\u001b[0m \u001b[0;34m=\u001b[0m \u001b[0murl\u001b[0m\u001b[0;34m.\u001b[0m\u001b[0msplit\u001b[0m\u001b[0;34m(\u001b[0m\u001b[0;34m\"://\"\u001b[0m\u001b[0;34m)\u001b[0m\u001b[0;34m\u001b[0m\u001b[0;34m\u001b[0m\u001b[0m\n\u001b[0;32m---> 19\u001b[0;31m     \u001b[0mhost_name\u001b[0m \u001b[0;34m=\u001b[0m \u001b[0mparts\u001b[0m\u001b[0;34m[\u001b[0m\u001b[0;36m1\u001b[0m\u001b[0;34m]\u001b[0m\u001b[0;34m.\u001b[0m\u001b[0msplit\u001b[0m\u001b[0;34m(\u001b[0m\u001b[0;34m\"/\"\u001b[0m\u001b[0;34m)\u001b[0m\u001b[0;34m[\u001b[0m\u001b[0;36m0\u001b[0m\u001b[0;34m]\u001b[0m\u001b[0;34m\u001b[0m\u001b[0;34m\u001b[0m\u001b[0m\n\u001b[0m\u001b[1;32m     20\u001b[0m     \u001b[0;32mreturn\u001b[0m \u001b[0mparts\u001b[0m\u001b[0;34m[\u001b[0m\u001b[0;36m0\u001b[0m\u001b[0;34m]\u001b[0m \u001b[0;34m+\u001b[0m \u001b[0;34m\"://\"\u001b[0m \u001b[0;34m+\u001b[0m \u001b[0mhost_name\u001b[0m\u001b[0;34m\u001b[0m\u001b[0;34m\u001b[0m\u001b[0m\n\u001b[1;32m     21\u001b[0m \u001b[0;34m\u001b[0m\u001b[0m\n",
            "\u001b[0;31mIndexError\u001b[0m: list index out of range"
          ]
        }
      ]
    },
    {
      "cell_type": "code",
      "source": [
        "  # Nome da lista do SharePoint\n",
        "  list_title = 'PORTABILIDADE SAIDA'\n",
        "  list_ = ctx.web.lists.get_by_title(list_title)\n",
        "  ctx.load(list_)\n",
        "  ctx.execute_query()\n"
      ],
      "metadata": {
        "id": "L9gDoNMawZO5"
      },
      "execution_count": null,
      "outputs": []
    },
    {
      "cell_type": "code",
      "source": [
        "\n",
        "  def inserir_dados(cpf, numero_proposta):\n",
        "    # Verifica se a proposta já existe na lista\n",
        "    camql = f\"Proposta eq '{numero_proposta}'\"\n",
        "    items = list_.get_items(query=camql)\n",
        "    ctx.load(items)\n",
        "    ctx.execute_query()\n",
        "\n",
        "    if not items:\n",
        "        # Cria um novo item na lista com os dados do CPF e número da proposta\n",
        "        list_item_creation_info = {\n",
        "            'Title': numero_proposta,\n",
        "            'CPF': cpf,\n",
        "            'Proposta': numero_proposta\n",
        "        }\n",
        "        item = list_.add_item(list_item_creation_info)\n",
        "        ctx.execute_query()\n",
        "        print(f\"Item inserido com sucesso: CPF: {cpf}, Proposta: {numero_proposta}\")\n",
        "    else:\n",
        "        print(f\"Proposta {numero_proposta} contem na lista.\")\n",
        "\n",
        "#Lê os dados do arquivo excel\n",
        "file_path = 'dados.xlsx'\n",
        "df = pd.read_excel(file_path)\n",
        "\n",
        "#Supondo que as colunas do excel são 'CPF' e 'NumeroProposta'\n",
        "dados = df[['CPF', 'NumeroProposta']].values.tolist()\n",
        "\n",
        ""
      ],
      "metadata": {
        "id": "cT_StZagwidA"
      },
      "execution_count": null,
      "outputs": []
    },
    {
      "cell_type": "code",
      "source": [
        "# Exemplo de uso com barra de progresso:\n",
        "  dados = [\n",
        "      (\"12345678900\", \"12345\"),\n",
        "      (\"98765432100\", \"54321\")\n",
        "  ]\n",
        "\n"
      ],
      "metadata": {
        "id": "F6wgw_IBw8LL"
      },
      "execution_count": null,
      "outputs": []
    },
    {
      "cell_type": "code",
      "source": [
        "#Inserir os dados na lista do SharePoint com barra de progresso\n",
        "\n",
        "for cpf, numero_proposta in tqdm(dados, desc=\"Inserindo dados\"):\n",
        "  inserir_dados(cpf, numero_proposta)\n",
        "  time.sleep(0.10)\n",
        "\n",
        "else:\n",
        "  print(ctx_auth.get_last_error())"
      ],
      "metadata": {
        "id": "XaBw0Y7BxGfZ"
      },
      "execution_count": null,
      "outputs": []
    }
  ]
}