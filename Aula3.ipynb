{
  "nbformat": 4,
  "nbformat_minor": 0,
  "metadata": {
    "colab": {
      "provenance": [],
      "authorship_tag": "ABX9TyPkKKI93vghAjiEgLbjI50I",
      "include_colab_link": true
    },
    "kernelspec": {
      "name": "python3",
      "display_name": "Python 3"
    },
    "language_info": {
      "name": "python"
    }
  },
  "cells": [
    {
      "cell_type": "markdown",
      "metadata": {
        "id": "view-in-github",
        "colab_type": "text"
      },
      "source": [
        "<a href=\"https://colab.research.google.com/github/LeVargas97/LeoCode/blob/main/Aula3.ipynb\" target=\"_parent\"><img src=\"https://colab.research.google.com/assets/colab-badge.svg\" alt=\"Open In Colab\"/></a>"
      ]
    },
    {
      "cell_type": "code",
      "execution_count": 14,
      "metadata": {
        "id": "lGGeLYs2gz15"
      },
      "outputs": [],
      "source": [
        "import numpy as np\n",
        "import pandas as pd\n"
      ]
    },
    {
      "cell_type": "code",
      "source": [
        "data = {\n",
        "    'Nome': ['Ana', 'João', 'Maria'],\n",
        "    'Idade': [23, 35, 29]\n",
        "       }\n",
        "df = pd.DataFrame(data)\n",
        "print(df)"
      ],
      "metadata": {
        "colab": {
          "base_uri": "https://localhost:8080/"
        },
        "id": "2aiu5Zhvg89G",
        "outputId": "10b5bc01-109f-4fca-abe9-3a247685bd4b"
      },
      "execution_count": 20,
      "outputs": [
        {
          "output_type": "stream",
          "name": "stdout",
          "text": [
            "    Nome  Idade\n",
            "0    Ana     23\n",
            "1   João     35\n",
            "2  Maria     29\n"
          ]
        }
      ]
    },
    {
      "cell_type": "code",
      "source": [
        "array1 = np.array([[1, 2, 3], [4, 5, 6]])\n",
        "\n",
        "df = pd.DataFrame(array1,columns=['A',\"B\",\"C\"])\n",
        "print(df)\n"
      ],
      "metadata": {
        "colab": {
          "base_uri": "https://localhost:8080/"
        },
        "id": "rrDNc9Q7iyu8",
        "outputId": "4d9183d8-864c-428e-f8bf-3daf8b01a19b"
      },
      "execution_count": 16,
      "outputs": [
        {
          "output_type": "stream",
          "name": "stdout",
          "text": [
            "   A  B  C\n",
            "0  1  2  3\n",
            "1  4  5  6\n"
          ]
        }
      ]
    },
    {
      "cell_type": "code",
      "source": [
        "print(df.head())\n",
        "print(\"########################\")\n",
        "print(df.tail())\n",
        "print(\"########################\")\n",
        "print(df.describe())"
      ],
      "metadata": {
        "colab": {
          "base_uri": "https://localhost:8080/"
        },
        "id": "pprozcPwjuw7",
        "outputId": "fc3c4eb3-7cce-4e7f-e974-802b3bb88bb2"
      },
      "execution_count": 17,
      "outputs": [
        {
          "output_type": "stream",
          "name": "stdout",
          "text": [
            "   A  B  C\n",
            "0  1  2  3\n",
            "1  4  5  6\n",
            "########################\n",
            "   A  B  C\n",
            "0  1  2  3\n",
            "1  4  5  6\n",
            "########################\n",
            "             A        B        C\n",
            "count  2.00000  2.00000  2.00000\n",
            "mean   2.50000  3.50000  4.50000\n",
            "std    2.12132  2.12132  2.12132\n",
            "min    1.00000  2.00000  3.00000\n",
            "25%    1.75000  2.75000  3.75000\n",
            "50%    2.50000  3.50000  4.50000\n",
            "75%    3.25000  4.25000  5.25000\n",
            "max    4.00000  5.00000  6.00000\n"
          ]
        }
      ]
    },
    {
      "cell_type": "code",
      "source": [
        "#selecionar coluna\n",
        "#selecionar uma coluna\n",
        "print(df['Nome'])\n",
        "\n",
        "#selecionar varias colunas\n",
        "print(df[['Nome','Idade']])\n",
        "\n",
        "#selecionar uma linha\n",
        "print(df.loc[0])\n",
        "\n",
        "#selecionar varias linhas\n",
        "print(df.loc[[0,1]])\n",
        "\n",
        "#selecionar uma linha por\n",
        "print(df.iloc[0])\n",
        "\n",
        "#selecionar uma celula especifica\n",
        "print(df.at[0,'Nome'])\n"
      ],
      "metadata": {
        "colab": {
          "base_uri": "https://localhost:8080/"
        },
        "id": "acUtr3K-nryO",
        "outputId": "13f66b93-14a2-4d05-e748-365b90d54269"
      },
      "execution_count": 25,
      "outputs": [
        {
          "output_type": "stream",
          "name": "stdout",
          "text": [
            "0      Ana\n",
            "1     João\n",
            "2    Maria\n",
            "Name: Nome, dtype: object\n",
            "    Nome  Idade\n",
            "0    Ana     23\n",
            "1   João     35\n",
            "2  Maria     29\n",
            "Nome     Ana\n",
            "Idade     23\n",
            "Name: 0, dtype: object\n",
            "   Nome  Idade\n",
            "0   Ana     23\n",
            "1  João     35\n",
            "Nome     Ana\n",
            "Idade     23\n",
            "Name: 0, dtype: object\n",
            "Ana\n"
          ]
        }
      ]
    },
    {
      "cell_type": "code",
      "source": [
        "#Adicionar Coluna\n",
        "df['Altura'] = [1.65, 1.80, 1.7]\n",
        "print(df)"
      ],
      "metadata": {
        "colab": {
          "base_uri": "https://localhost:8080/"
        },
        "id": "SiUUe_9dqNoe",
        "outputId": "c56fa098-34c8-4413-f268-564e590c1e4e"
      },
      "execution_count": 26,
      "outputs": [
        {
          "output_type": "stream",
          "name": "stdout",
          "text": [
            "    Nome  Idade  Altura\n",
            "0    Ana     23    1.65\n",
            "1   João     35    1.80\n",
            "2  Maria     29    1.70\n"
          ]
        }
      ]
    },
    {
      "cell_type": "code",
      "source": [
        "#Remover Coluna\n",
        "df = df.drop('Altura', axis=1)\n",
        "print(df)"
      ],
      "metadata": {
        "colab": {
          "base_uri": "https://localhost:8080/"
        },
        "id": "F-zYgUN1rQLN",
        "outputId": "653f9b7a-6d32-4f09-fb01-ab86260a850c"
      },
      "execution_count": 27,
      "outputs": [
        {
          "output_type": "stream",
          "name": "stdout",
          "text": [
            "    Nome  Idade\n",
            "0    Ana     23\n",
            "1   João     35\n",
            "2  Maria     29\n"
          ]
        }
      ]
    },
    {
      "cell_type": "code",
      "source": [
        "#Adicionar 2 a todas idades\n",
        "#df['Idade'] = df['Idade'] + 2\n",
        "print(df)"
      ],
      "metadata": {
        "colab": {
          "base_uri": "https://localhost:8080/"
        },
        "id": "PPyiU5F8rhPE",
        "outputId": "fc2bafcd-f89c-4edb-d4fc-1ea178a6305d"
      },
      "execution_count": 28,
      "outputs": [
        {
          "output_type": "stream",
          "name": "stdout",
          "text": [
            "    Nome  Idade\n",
            "0    Ana     25\n",
            "1   João     37\n",
            "2  Maria     31\n"
          ]
        }
      ]
    },
    {
      "cell_type": "code",
      "source": [
        "#aplicar uma função NumPy\n",
        "df['Idade'] = np.sqrt(df['Idade'])\n",
        "print(df)\n"
      ],
      "metadata": {
        "colab": {
          "base_uri": "https://localhost:8080/"
        },
        "id": "6L0f9KdUr1Kw",
        "outputId": "d221ae78-ac85-4a62-ce2e-38ca0430d5c5"
      },
      "execution_count": 30,
      "outputs": [
        {
          "output_type": "stream",
          "name": "stdout",
          "text": [
            "    Nome     Idade\n",
            "0    Ana  2.236068\n",
            "1   João  2.466326\n",
            "2  Maria  2.359611\n"
          ]
        }
      ]
    }
  ]
}