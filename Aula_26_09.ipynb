{
  "nbformat": 4,
  "nbformat_minor": 0,
  "metadata": {
    "colab": {
      "provenance": [],
      "authorship_tag": "ABX9TyMRlgQqZAB0Ge9TM1DhLFxO",
      "include_colab_link": true
    },
    "kernelspec": {
      "name": "python3",
      "display_name": "Python 3"
    },
    "language_info": {
      "name": "python"
    }
  },
  "cells": [
    {
      "cell_type": "markdown",
      "metadata": {
        "id": "view-in-github",
        "colab_type": "text"
      },
      "source": [
        "<a href=\"https://colab.research.google.com/github/LeVargas97/LeoCode/blob/main/Aula_26_09.ipynb\" target=\"_parent\"><img src=\"https://colab.research.google.com/assets/colab-badge.svg\" alt=\"Open In Colab\"/></a>"
      ]
    },
    {
      "cell_type": "code",
      "execution_count": 59,
      "metadata": {
        "id": "oE9ubhNbrX1F"
      },
      "outputs": [],
      "source": [
        "import numpy as np\n",
        "import pandas as pd\n",
        "import matplotlib.pyplot as plt"
      ]
    },
    {
      "cell_type": "code",
      "source": [
        "array = np.random.randint(1,51, size = 10)\n",
        "print(array)"
      ],
      "metadata": {
        "colab": {
          "base_uri": "https://localhost:8080/"
        },
        "id": "2l6FvtldrjLz",
        "outputId": "84942595-98df-4575-9c28-f2ead9e37a36"
      },
      "execution_count": 4,
      "outputs": [
        {
          "output_type": "stream",
          "name": "stdout",
          "text": [
            "[ 8 49 49  9 22 25  2 44 22 29]\n"
          ]
        }
      ]
    },
    {
      "cell_type": "code",
      "source": [
        "max_value = np.max(array)\n",
        "min_value = np.min(array)\n",
        "mean_value = np.mean(array)\n",
        "\n",
        "print(f\"Maior Valor: {max_value}\")\n",
        "print(f\"Menor Valor: {min_value}\")\n",
        "print(f\"Média dos Valores: {mean_value}\")"
      ],
      "metadata": {
        "colab": {
          "base_uri": "https://localhost:8080/"
        },
        "id": "Mq28x-iPsQ4x",
        "outputId": "a46e3a59-1e3b-4dd0-d861-b3820de3199e"
      },
      "execution_count": 6,
      "outputs": [
        {
          "output_type": "stream",
          "name": "stdout",
          "text": [
            "Maior Valor: 49\n",
            "Menor Valor: 2\n",
            "Média dos Valores: 25.9\n"
          ]
        }
      ]
    },
    {
      "cell_type": "code",
      "source": [
        "reshaped_array = array.reshape(2,5)\n",
        "print(reshaped_array)\n"
      ],
      "metadata": {
        "colab": {
          "base_uri": "https://localhost:8080/"
        },
        "id": "r91igTx9usgn",
        "outputId": "e8a86029-17d6-4694-c911-2cc8daa6049c"
      },
      "execution_count": 11,
      "outputs": [
        {
          "output_type": "stream",
          "name": "stdout",
          "text": [
            "[[ 8 49 49  9 22]\n",
            " [25  2 44 22 29]]\n"
          ]
        }
      ]
    },
    {
      "cell_type": "code",
      "source": [
        "array1 = np.random.randint(1,51, size = 5)\n",
        "array2 = np.random.randint(1,51, size = 5)\n",
        "print(array1)\n",
        "print(array2)"
      ],
      "metadata": {
        "colab": {
          "base_uri": "https://localhost:8080/"
        },
        "id": "RqqZtUF3vDPW",
        "outputId": "7b467ae7-3103-422f-d96e-62ca25c8e964"
      },
      "execution_count": 13,
      "outputs": [
        {
          "output_type": "stream",
          "name": "stdout",
          "text": [
            "[ 4 39 46 17 23]\n",
            "[ 5 27 11 45 28]\n"
          ]
        }
      ]
    },
    {
      "cell_type": "code",
      "source": [
        "produto_escalar = np.dot(array1, array2)\n",
        "print(\"Produto Escalar:\",produto_escalar)"
      ],
      "metadata": {
        "colab": {
          "base_uri": "https://localhost:8080/"
        },
        "id": "ugQH19oYvYAV",
        "outputId": "84e84a1f-bca7-482c-8837-d5229bf6fba8"
      },
      "execution_count": 15,
      "outputs": [
        {
          "output_type": "stream",
          "name": "stdout",
          "text": [
            "Produto Escalar: 2988\n"
          ]
        }
      ]
    },
    {
      "cell_type": "code",
      "source": [
        "array_3x3 = np.random.randint(1,51, size = (3,3))\n",
        "print(array_3x3)"
      ],
      "metadata": {
        "colab": {
          "base_uri": "https://localhost:8080/"
        },
        "id": "c97tv3_uv3xN",
        "outputId": "e3f623fb-4e52-41ab-9949-1b00da819f37"
      },
      "execution_count": 16,
      "outputs": [
        {
          "output_type": "stream",
          "name": "stdout",
          "text": [
            "[[40  7 44]\n",
            " [32  3 30]\n",
            " [31 23 42]]\n"
          ]
        }
      ]
    },
    {
      "cell_type": "code",
      "source": [
        "segunda_linha = array_3x3[1,:]\n",
        "print(segunda_linha)\n",
        "\n",
        "print(\"####################\")\n",
        "\n",
        "segundo_elemento = array_3x3[0,1]\n",
        "print(segundo_elemento)"
      ],
      "metadata": {
        "colab": {
          "base_uri": "https://localhost:8080/"
        },
        "id": "FBJ4_upGwlM2",
        "outputId": "6b2d944b-7374-43f0-e006-87c4d0872610"
      },
      "execution_count": 20,
      "outputs": [
        {
          "output_type": "stream",
          "name": "stdout",
          "text": [
            "[32  3 30]\n",
            "####################\n",
            "7\n"
          ]
        }
      ]
    },
    {
      "cell_type": "code",
      "source": [
        "array_3x3[0,:] = 0\n",
        "print(array_3x3)"
      ],
      "metadata": {
        "colab": {
          "base_uri": "https://localhost:8080/"
        },
        "id": "JzNewrrvxSm0",
        "outputId": "fc351b18-7acf-4037-e7c8-82915e01e143"
      },
      "execution_count": 21,
      "outputs": [
        {
          "output_type": "stream",
          "name": "stdout",
          "text": [
            "[[ 0  0  0]\n",
            " [32  3 30]\n",
            " [31 23 42]]\n"
          ]
        }
      ]
    },
    {
      "cell_type": "code",
      "source": [
        "matriz = np.eye(4)\n",
        "print(matriz)"
      ],
      "metadata": {
        "colab": {
          "base_uri": "https://localhost:8080/"
        },
        "id": "baz0xotqyBc0",
        "outputId": "47c85b85-e688-4fd8-f849-89f0a565397e"
      },
      "execution_count": 23,
      "outputs": [
        {
          "output_type": "stream",
          "name": "stdout",
          "text": [
            "[[1. 0. 0. 0.]\n",
            " [0. 1. 0. 0.]\n",
            " [0. 0. 1. 0.]\n",
            " [0. 0. 0. 1.]]\n"
          ]
        }
      ]
    },
    {
      "cell_type": "code",
      "source": [
        "matriz2 = np.random.randint(1,51, size = (3,3))\n",
        "print(matriz2)"
      ],
      "metadata": {
        "colab": {
          "base_uri": "https://localhost:8080/"
        },
        "id": "63fQ2OXVy3Rd",
        "outputId": "f77f9c24-d9cf-427f-b23a-9f63cb0eb009"
      },
      "execution_count": 25,
      "outputs": [
        {
          "output_type": "stream",
          "name": "stdout",
          "text": [
            "[[21 50 10]\n",
            " [ 9 28 36]\n",
            " [27 33 11]]\n"
          ]
        }
      ]
    },
    {
      "cell_type": "code",
      "source": [
        "\n",
        "print(\"Transposta:\\n\", matriz2.T)\n"
      ],
      "metadata": {
        "colab": {
          "base_uri": "https://localhost:8080/"
        },
        "id": "U7MYw_SizJ05",
        "outputId": "08264e90-58e7-40fc-dd2d-08363df94bae"
      },
      "execution_count": 32,
      "outputs": [
        {
          "output_type": "stream",
          "name": "stdout",
          "text": [
            "Transposta:\n",
            " [[21  9 27]\n",
            " [50 28 33]\n",
            " [10 36 11]]\n"
          ]
        }
      ]
    },
    {
      "cell_type": "code",
      "source": [
        "print(\"Determinante:\", np.linalg.det(matriz2))"
      ],
      "metadata": {
        "colab": {
          "base_uri": "https://localhost:8080/"
        },
        "id": "snkK4-J_0NBp",
        "outputId": "904d4393-3c2b-4eb3-b062-6f47a4507c8c"
      },
      "execution_count": 33,
      "outputs": [
        {
          "output_type": "stream",
          "name": "stdout",
          "text": [
            "Determinante: 20580.000000000022\n"
          ]
        }
      ]
    },
    {
      "cell_type": "code",
      "source": [
        "lista = [10,20,30,40,50]\n",
        "\n",
        "serie = pd.Series(lista)\n",
        "print(serie)"
      ],
      "metadata": {
        "colab": {
          "base_uri": "https://localhost:8080/"
        },
        "id": "S_QiTyKT1EAB",
        "outputId": "b39644a9-f777-4a7e-f07c-322032ebeebc"
      },
      "execution_count": 35,
      "outputs": [
        {
          "output_type": "stream",
          "name": "stdout",
          "text": [
            "0    10\n",
            "1    20\n",
            "2    30\n",
            "3    40\n",
            "4    50\n",
            "dtype: int64\n"
          ]
        }
      ]
    },
    {
      "cell_type": "code",
      "source": [
        "print(serie.describe())"
      ],
      "metadata": {
        "colab": {
          "base_uri": "https://localhost:8080/"
        },
        "id": "csPIcgB51fCI",
        "outputId": "d71ebf89-4ff8-4a11-c242-b86b73edcb98"
      },
      "execution_count": 36,
      "outputs": [
        {
          "output_type": "stream",
          "name": "stdout",
          "text": [
            "count     5.000000\n",
            "mean     30.000000\n",
            "std      15.811388\n",
            "min      10.000000\n",
            "25%      20.000000\n",
            "50%      30.000000\n",
            "75%      40.000000\n",
            "max      50.000000\n",
            "dtype: float64\n"
          ]
        }
      ]
    },
    {
      "cell_type": "code",
      "source": [
        "rotulos = ['a', 'b', 'c', 'd', 'e']\n",
        "\n",
        "serie_rotulos = pd.Series(lista, index = rotulos)\n",
        "print(serie_rotulos)"
      ],
      "metadata": {
        "colab": {
          "base_uri": "https://localhost:8080/"
        },
        "id": "Z8qMayYh1nyg",
        "outputId": "0aacbeb4-de25-488e-b1ca-a3cec986a34f"
      },
      "execution_count": 37,
      "outputs": [
        {
          "output_type": "stream",
          "name": "stdout",
          "text": [
            "a    10\n",
            "b    20\n",
            "c    30\n",
            "d    40\n",
            "e    50\n",
            "dtype: int64\n"
          ]
        }
      ]
    },
    {
      "cell_type": "code",
      "source": [
        "vendas ={'Produto': ['Produto A', 'Produto B', 'Produto C'],\n",
        " 'Quantidade': [10, 15, 7],\n",
        " 'Preço': [100, 150, 120]}\n",
        "\n",
        "df = pd.DataFrame(vendas)\n",
        "print(df)\n"
      ],
      "metadata": {
        "colab": {
          "base_uri": "https://localhost:8080/"
        },
        "id": "MQBbIg6O2MrR",
        "outputId": "8dbdfbb9-a207-466f-8291-7c7c6938df74"
      },
      "execution_count": 38,
      "outputs": [
        {
          "output_type": "stream",
          "name": "stdout",
          "text": [
            "     Produto  Quantidade  Preço\n",
            "0  Produto A          10    100\n",
            "1  Produto B          15    150\n",
            "2  Produto C           7    120\n"
          ]
        }
      ]
    },
    {
      "cell_type": "code",
      "source": [
        "df['Valor Total'] = df['Quantidade'] * df['Preço']\n",
        "\n",
        "print(df)"
      ],
      "metadata": {
        "colab": {
          "base_uri": "https://localhost:8080/"
        },
        "id": "DWpyvWat5AzW",
        "outputId": "fae29565-7555-430a-fac5-723e1b5047cd"
      },
      "execution_count": 39,
      "outputs": [
        {
          "output_type": "stream",
          "name": "stdout",
          "text": [
            "     Produto  Quantidade  Preço  Valor Total\n",
            "0  Produto A          10    100         1000\n",
            "1  Produto B          15    150         2250\n",
            "2  Produto C           7    120          840\n"
          ]
        }
      ]
    },
    {
      "cell_type": "code",
      "source": [
        "df_ordenar = df.sort_values(by = 'Valor Total', ascending = False)\n",
        "print(df_ordenar)"
      ],
      "metadata": {
        "colab": {
          "base_uri": "https://localhost:8080/"
        },
        "id": "CCY8cMm55PY8",
        "outputId": "7d46e658-f19f-4d1d-a94d-6d8ec3ca7839"
      },
      "execution_count": 40,
      "outputs": [
        {
          "output_type": "stream",
          "name": "stdout",
          "text": [
            "     Produto  Quantidade  Preço  Valor Total\n",
            "1  Produto B          15    150         2250\n",
            "0  Produto A          10    100         1000\n",
            "2  Produto C           7    120          840\n"
          ]
        }
      ]
    },
    {
      "cell_type": "code",
      "source": [
        "df = pd.read_csv('dataset_desafio_final.csv')\n",
        "\n",
        "print(df.head())"
      ],
      "metadata": {
        "colab": {
          "base_uri": "https://localhost:8080/"
        },
        "id": "bTSBvXou6jSU",
        "outputId": "a2c41d61-b269-4376-b427-aa6942957f8c"
      },
      "execution_count": 41,
      "outputs": [
        {
          "output_type": "stream",
          "name": "stdout",
          "text": [
            "   ClienteID  DataCompra    Produto  Quantidade  PrecoUnitario  ValorTotal\n",
            "0          1  2024-01-01  Produto C           2         199.57      399.14\n",
            "1          2  2024-01-02  Produto D           2          60.69      121.38\n",
            "2          3  2024-01-03  Produto A           4         195.56      782.24\n",
            "3          4  2024-01-04  Produto C           8          88.10      704.80\n",
            "4          5  2024-01-05  Produto C           7          16.28      113.96\n"
          ]
        }
      ]
    },
    {
      "cell_type": "code",
      "source": [
        "primeiras_linhas = df.head()\n",
        "print(primeiras_linhas)"
      ],
      "metadata": {
        "colab": {
          "base_uri": "https://localhost:8080/"
        },
        "id": "yFldCjpX7JuM",
        "outputId": "9362438f-3dfd-4c48-808e-0fca6a73ab1e"
      },
      "execution_count": 42,
      "outputs": [
        {
          "output_type": "stream",
          "name": "stdout",
          "text": [
            "   ClienteID  DataCompra    Produto  Quantidade  PrecoUnitario  ValorTotal\n",
            "0          1  2024-01-01  Produto C           2         199.57      399.14\n",
            "1          2  2024-01-02  Produto D           2          60.69      121.38\n",
            "2          3  2024-01-03  Produto A           4         195.56      782.24\n",
            "3          4  2024-01-04  Produto C           8          88.10      704.80\n",
            "4          5  2024-01-05  Produto C           7          16.28      113.96\n"
          ]
        }
      ]
    },
    {
      "cell_type": "code",
      "source": [
        "ultimas_linhas = df.tail()\n",
        "print(ultimas_linhas)"
      ],
      "metadata": {
        "colab": {
          "base_uri": "https://localhost:8080/"
        },
        "id": "g6bo_USJ7U4r",
        "outputId": "c610c4a0-7206-4fc1-a0fc-95bbe0607932"
      },
      "execution_count": 43,
      "outputs": [
        {
          "output_type": "stream",
          "name": "stdout",
          "text": [
            "    ClienteID  DataCompra    Produto  Quantidade  PrecoUnitario  ValorTotal\n",
            "95         96  2024-04-05  Produto B           2         198.96      397.92\n",
            "96         97  2024-04-06  Produto B           3          99.29      297.87\n",
            "97         98  2024-04-07  Produto D           1          63.12       63.12\n",
            "98         99  2024-04-08  Produto B           5         177.86      889.30\n",
            "99        100  2024-04-09  Produto A           1         152.07      152.07\n"
          ]
        }
      ]
    },
    {
      "cell_type": "code",
      "source": [
        "valorprocurado = \"Produto D\"\n",
        "pesquisa = df.loc[df['Produto']== valorprocurado]\n",
        "\n",
        "print(pesquisa)"
      ],
      "metadata": {
        "colab": {
          "base_uri": "https://localhost:8080/"
        },
        "id": "UQDf2Pu_7mAz",
        "outputId": "8d685f60-9906-4f95-999a-1caeaf0a69c2"
      },
      "execution_count": 51,
      "outputs": [
        {
          "output_type": "stream",
          "name": "stdout",
          "text": [
            "    ClienteID  DataCompra    Produto  Quantidade  PrecoUnitario  ValorTotal\n",
            "1           2  2024-01-02  Produto D           2          60.69      121.38\n",
            "5           6  2024-01-06  Produto D           9          75.56      680.04\n",
            "14         15  2024-01-15  Produto D           9          56.01      504.09\n",
            "16         17  2024-01-17  Produto D           9          99.36      894.24\n",
            "17         18  2024-01-18  Produto D           8         196.85     1574.80\n",
            "18         19  2024-01-19  Produto D           1          85.78       85.78\n",
            "23         24  2024-01-24  Produto D           8         142.20     1137.60\n",
            "24         25  2024-01-25  Produto D           3         173.09      519.27\n",
            "28         29  2024-01-29  Produto D           7         163.81     1146.67\n",
            "29         30  2024-01-30  Produto D           9          76.25      686.25\n",
            "32         33  2024-02-02  Produto D           8          85.54      684.32\n",
            "36         37  2024-02-06  Produto D           7         149.69     1047.83\n",
            "43         44  2024-02-13  Produto D           1         108.16      108.16\n",
            "44         45  2024-02-14  Produto D           3          59.56      178.68\n",
            "45         46  2024-02-15  Produto D           5         199.29      996.45\n",
            "46         47  2024-02-16  Produto D           3         193.43      580.29\n",
            "53         54  2024-02-23  Produto D           7         172.70     1208.90\n",
            "55         56  2024-02-25  Produto D           4         178.68      714.72\n",
            "56         57  2024-02-26  Produto D           4         171.68      686.72\n",
            "66         67  2024-03-07  Produto D           5         102.27      511.35\n",
            "68         69  2024-03-09  Produto D           4         198.95      795.80\n",
            "76         77  2024-03-17  Produto D           4          68.53      274.12\n",
            "77         78  2024-03-18  Produto D           9         113.08     1017.72\n",
            "79         80  2024-03-20  Produto D           7         130.90      916.30\n",
            "81         82  2024-03-22  Produto D           8         122.08      976.64\n",
            "83         84  2024-03-24  Produto D           5         102.48      512.40\n",
            "88         89  2024-03-29  Produto D           8         137.10     1096.80\n",
            "90         91  2024-03-31  Produto D           4          53.74      214.96\n",
            "91         92  2024-04-01  Produto D           1         104.85      104.85\n",
            "97         98  2024-04-07  Produto D           1          63.12       63.12\n"
          ]
        }
      ]
    },
    {
      "cell_type": "code",
      "source": [
        "resultado2 = df.query('PrecoUnitario == 59.56')\n",
        "\n",
        "print(resultado2)"
      ],
      "metadata": {
        "colab": {
          "base_uri": "https://localhost:8080/"
        },
        "id": "UVhKH79688Hc",
        "outputId": "673f744d-f355-4c72-fa40-dd33f57e1a67"
      },
      "execution_count": 55,
      "outputs": [
        {
          "output_type": "stream",
          "name": "stdout",
          "text": [
            "    ClienteID  DataCompra    Produto  Quantidade  PrecoUnitario  ValorTotal\n",
            "44         45  2024-02-14  Produto D           3          59.56      178.68\n"
          ]
        }
      ]
    },
    {
      "cell_type": "code",
      "source": [
        "df_filtrado = df[df['ValorTotal'] > 500]\n",
        "print(df_filtrado)"
      ],
      "metadata": {
        "colab": {
          "base_uri": "https://localhost:8080/"
        },
        "id": "LWXDd5Y1-h-R",
        "outputId": "62529486-1cc2-40ed-a69b-f6e06fe42335"
      },
      "execution_count": 58,
      "outputs": [
        {
          "output_type": "stream",
          "name": "stdout",
          "text": [
            "    ClienteID  DataCompra    Produto  Quantidade  PrecoUnitario  ValorTotal\n",
            "2           3  2024-01-03  Produto A           4         195.56      782.24\n",
            "3           4  2024-01-04  Produto C           8          88.10      704.80\n",
            "5           6  2024-01-06  Produto D           9          75.56      680.04\n",
            "6           7  2024-01-07  Produto A           8         130.53     1044.24\n",
            "7           8  2024-01-08  Produto A           5         139.33      696.65\n",
            "10         11  2024-01-11  Produto C           8         115.05      920.40\n",
            "11         12  2024-01-12  Produto C           9         122.61     1103.49\n",
            "14         15  2024-01-15  Produto D           9          56.01      504.09\n",
            "15         16  2024-01-16  Produto A           7         162.60     1138.20\n",
            "16         17  2024-01-17  Produto D           9          99.36      894.24\n",
            "17         18  2024-01-18  Produto D           8         196.85     1574.80\n",
            "19         20  2024-01-20  Produto C           8         165.12     1320.96\n",
            "20         21  2024-01-21  Produto B           8         161.69     1293.52\n",
            "23         24  2024-01-24  Produto D           8         142.20     1137.60\n",
            "24         25  2024-01-25  Produto D           3         173.09      519.27\n",
            "27         28  2024-01-28  Produto B           5         145.12      725.60\n",
            "28         29  2024-01-29  Produto D           7         163.81     1146.67\n",
            "29         30  2024-01-30  Produto D           9          76.25      686.25\n",
            "31         32  2024-02-01  Produto A           9         188.70     1698.30\n",
            "32         33  2024-02-02  Produto D           8          85.54      684.32\n",
            "35         36  2024-02-05  Produto A           7         138.38      968.66\n",
            "36         37  2024-02-06  Produto D           7         149.69     1047.83\n",
            "38         39  2024-02-08  Produto A           5         112.88      564.40\n",
            "42         43  2024-02-12  Produto B           3         196.61      589.83\n",
            "45         46  2024-02-15  Produto D           5         199.29      996.45\n",
            "46         47  2024-02-16  Produto D           3         193.43      580.29\n",
            "48         49  2024-02-18  Produto B           5         177.70      888.50\n",
            "51         52  2024-02-21  Produto B           9         143.07     1287.63\n",
            "52         53  2024-02-22  Produto C           3         170.87      512.61\n",
            "53         54  2024-02-23  Produto D           7         172.70     1208.90\n",
            "55         56  2024-02-25  Produto D           4         178.68      714.72\n",
            "56         57  2024-02-26  Produto D           4         171.68      686.72\n",
            "57         58  2024-02-27  Produto A           5         187.77      938.85\n",
            "58         59  2024-02-28  Produto C           7         159.21     1114.47\n",
            "59         60  2024-02-29  Produto A           7         137.11      959.77\n",
            "61         62  2024-03-02  Produto C           7          80.73      565.11\n",
            "62         63  2024-03-03  Produto A           3         188.63      565.89\n",
            "63         64  2024-03-04  Produto A           6         195.00     1170.00\n",
            "65         66  2024-03-06  Produto B           9          68.02      612.18\n",
            "66         67  2024-03-07  Produto D           5         102.27      511.35\n",
            "67         68  2024-03-08  Produto A           6          95.20      571.20\n",
            "68         69  2024-03-09  Produto D           4         198.95      795.80\n",
            "71         72  2024-03-12  Produto B           7         103.84      726.88\n",
            "74         75  2024-03-15  Produto A           9         151.39     1362.51\n",
            "75         76  2024-03-16  Produto B           9         146.98     1322.82\n",
            "77         78  2024-03-18  Produto D           9         113.08     1017.72\n",
            "79         80  2024-03-20  Produto D           7         130.90      916.30\n",
            "81         82  2024-03-22  Produto D           8         122.08      976.64\n",
            "82         83  2024-03-23  Produto A           9         195.99     1763.91\n",
            "83         84  2024-03-24  Produto D           5         102.48      512.40\n",
            "86         87  2024-03-27  Produto B           8          76.51      612.08\n",
            "87         88  2024-03-28  Produto A           6         132.57      795.42\n",
            "88         89  2024-03-29  Produto D           8         137.10     1096.80\n",
            "89         90  2024-03-30  Produto B           9         174.19     1567.71\n",
            "93         94  2024-04-03  Produto B           4         156.03      624.12\n",
            "98         99  2024-04-08  Produto B           5         177.86      889.30\n"
          ]
        }
      ]
    },
    {
      "cell_type": "code",
      "source": [
        "x = range(1, 11)\n",
        "y = [2, 3, 5, 7, 11, 13, 17, 19, 23, 29]\n",
        "\n",
        "plt.plot(x, y,label = 'Numeros Primos')\n",
        "plt.xlabel('Posição')\n",
        "plt.ylabel('Valor')\n",
        "plt.title('Gráfico de Linha')\n",
        "\n",
        "plt.show()"
      ],
      "metadata": {
        "colab": {
          "base_uri": "https://localhost:8080/",
          "height": 472
        },
        "id": "cItaFB5s-wa3",
        "outputId": "fd72ac7a-1f23-481e-927d-d5d96a44090d"
      },
      "execution_count": 60,
      "outputs": [
        {
          "output_type": "display_data",
          "data": {
            "text/plain": [
              "<Figure size 640x480 with 1 Axes>"
            ],
            "image/png": "[encoded data removed]"
          },
          "metadata": {}
        }
      ]
    },
    {
      "cell_type": "code",
      "source": [
        "produtos = ['Produto A', 'Produto B', 'Produto C']\n",
        "quantidades = [10, 15, 7]\n",
        "\n",
        "plt.bar(produtos, quantidades, color=['blue', 'green', 'red'])\n",
        "plt.xlabel('Produtos')\n",
        "plt.ylabel('Quantidades')\n",
        "plt.title('Gráfico de Barras')\n",
        "\n",
        "plt.show()"
      ],
      "metadata": {
        "colab": {
          "base_uri": "https://localhost:8080/",
          "height": 472
        },
        "id": "tDQsNX9R_2tg",
        "outputId": "57e233a2-ca19-4763-fa2f-0db8e0ba000f"
      },
      "execution_count": 61,
      "outputs": [
        {
          "output_type": "display_data",
          "data": {
            "text/plain": [
              "<Figure size 640x480 with 1 Axes>"
            ],
            "image/png": "[encoded data removed]"
          },
          "metadata": {}
        }
      ]
    },
    {
      "cell_type": "code",
      "source": [
        "dados = np.random.randn(100)\n",
        "\n",
        "\n",
        "plt.hist(dados, bins=10, color='skyblue', edgecolor='black')\n",
        "plt.xlabel('Valores')\n",
        "plt.ylabel('Frequência')\n",
        "plt.title('Histograma')\n",
        "\n",
        "plt.show()"
      ],
      "metadata": {
        "colab": {
          "base_uri": "https://localhost:8080/",
          "height": 472
        },
        "id": "dtNco0BVAgIP",
        "outputId": "3f1dd7d5-1a06-4fc0-a788-dd7e5a74ebf3"
      },
      "execution_count": 63,
      "outputs": [
        {
          "output_type": "display_data",
          "data": {
            "text/plain": [
              "<Figure size 640x480 with 1 Axes>"
            ],
            "image/png": "[encoded data removed]"
          },
          "metadata": {}
        }
      ]
    }
  ]
}