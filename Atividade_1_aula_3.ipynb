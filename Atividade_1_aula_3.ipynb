{
  "nbformat": 4,
  "nbformat_minor": 0,
  "metadata": {
    "colab": {
      "provenance": [],
      "authorship_tag": "ABX9TyOJZUfzKYNda7lVrDOoouqx",
      "include_colab_link": true
    },
    "kernelspec": {
      "name": "python3",
      "display_name": "Python 3"
    },
    "language_info": {
      "name": "python"
    }
  },
  "cells": [
    {
      "cell_type": "markdown",
      "metadata": {
        "id": "view-in-github",
        "colab_type": "text"
      },
      "source": [
        "<a href=\"https://colab.research.google.com/github/LeVargas97/LeoCode/blob/main/Atividade_1_aula_3.ipynb\" target=\"_parent\"><img src=\"https://colab.research.google.com/assets/colab-badge.svg\" alt=\"Open In Colab\"/></a>"
      ]
    },
    {
      "cell_type": "code",
      "source": [
        "import numpy as np"
      ],
      "metadata": {
        "id": "DtRnwO57NpsE"
      },
      "execution_count": 38,
      "outputs": []
    },
    {
      "cell_type": "code",
      "execution_count": 43,
      "metadata": {
        "id": "OcGE2R-CLxPf",
        "colab": {
          "base_uri": "https://localhost:8080/"
        },
        "outputId": "317d3a79-0961-48c1-9370-2a3fe1f792ed"
      },
      "outputs": [
        {
          "output_type": "stream",
          "name": "stdout",
          "text": [
            "temperatura das 4 semana é: \n",
            " [[22 24 19 21 23 20 25]\n",
            " [28 29 31 27 26 30 28]\n",
            " [19 20 18 22 21 23 24]\n",
            " [25 27 29 28 26 30 31]]\n"
          ]
        }
      ],
      "source": [
        "temperaturas = np.array([\n",
        "  [22,24,19,21,23,20,25],\n",
        "  [28,29,31,27,26,30,28],\n",
        "  [19,20,18,22,21,23,24],\n",
        "  [25,27,29,28,26,30,31]\n",
        "  ])\n",
        "print(\"temperatura das 4 semana é: \\n\" ,temperaturas)"
      ]
    },
    {
      "cell_type": "code",
      "source": [
        "for i in range(temperaturas.shape[0]):\n",
        "  semana = temperaturas[i, :]\n",
        "  media_semana = np.mean(semana)\n",
        "  max_semana = np.max(semana)\n",
        "  min_semana = np.min(semana)\n",
        "  print(f\"Semana {i+1}: Média = {media_semana:}, Máxima = {max_semana}, Mínima = {min_semana}\")"
      ],
      "metadata": {
        "colab": {
          "base_uri": "https://localhost:8080/"
        },
        "id": "QgjNvDR1Se6c",
        "outputId": "cb693018-27a9-4911-96df-a89bcaf091dc"
      },
      "execution_count": 56,
      "outputs": [
        {
          "output_type": "stream",
          "name": "stdout",
          "text": [
            "Semana 1: Média = 22.0, Máxima = 25, Mínima = 19\n",
            "Semana 2: Média = 28.428571428571427, Máxima = 31, Mínima = 26\n",
            "Semana 3: Média = 21.0, Máxima = 24, Mínima = 18\n",
            "Semana 4: Média = 28.0, Máxima = 31, Mínima = 25\n"
          ]
        }
      ]
    },
    {
      "cell_type": "code",
      "source": [
        "tempMaxima = np.max(temperaturas)\n",
        "tempMinima = np.min(temperaturas)\n",
        "\n",
        "print(\"Temperatura maxima da semana é: \", tempMaxima)\n",
        "print(\"Temperatura minima da semana é: \", tempMinima)"
      ],
      "metadata": {
        "colab": {
          "base_uri": "https://localhost:8080/"
        },
        "id": "W_XA0aLmUl7R",
        "outputId": "d3db8071-1190-43d5-e95a-818a155cbf4f"
      },
      "execution_count": 49,
      "outputs": [
        {
          "output_type": "stream",
          "name": "stdout",
          "text": [
            "Temperatura maxima da semana é:  31\n",
            "Temperatura minima da semana é:  18\n"
          ]
        }
      ]
    },
    {
      "cell_type": "code",
      "source": [
        "filtro = (temperaturas < 20) | (temperaturas > 30)\n",
        "#print(filtro)\n",
        "\n",
        "temperaturas2 = temperaturas[filtro]\n",
        "print(temperaturas2)"
      ],
      "metadata": {
        "colab": {
          "base_uri": "https://localhost:8080/"
        },
        "id": "Q_vBjFcMU1j3",
        "outputId": "d4c1225e-0160-47e3-86e4-01650aecda40"
      },
      "execution_count": 51,
      "outputs": [
        {
          "output_type": "stream",
          "name": "stdout",
          "text": [
            "[19 31 19 18 31]\n"
          ]
        }
      ]
    },
    {
      "cell_type": "code",
      "source": [
        "temperaturas_ajustada = np.where(temperaturas < 25, temperaturas * 1.05, temperaturas * 0.97)\n",
        "\n",
        "print(\"Temperaturas ajustadas:\\n\", temperaturas_ajustada)\n"
      ],
      "metadata": {
        "colab": {
          "base_uri": "https://localhost:8080/"
        },
        "id": "scyvtPzZWkHQ",
        "outputId": "b45a352c-bc3e-4e72-8e41-b9d6ba361c33"
      },
      "execution_count": 52,
      "outputs": [
        {
          "output_type": "stream",
          "name": "stdout",
          "text": [
            "Temperaturas ajustadas:\n",
            " [[23.1  25.2  19.95 22.05 24.15 21.   24.25]\n",
            " [27.16 28.13 30.07 26.19 25.22 29.1  27.16]\n",
            " [19.95 21.   18.9  23.1  22.05 24.15 25.2 ]\n",
            " [24.25 26.19 28.13 27.16 25.22 29.1  30.07]]\n"
          ]
        }
      ]
    },
    {
      "cell_type": "code",
      "source": [
        "media = np.mean(temperaturas)\n",
        "print(\"Média das temperaturas:\", media)\n",
        "\n",
        "\n",
        "desvio_padrao = np.std(temperaturas)\n",
        "print(\"Desvio padrão das temperaturas:\", desvio_padrao)\n",
        "\n",
        "\n",
        "mediana = np.median(temperaturas)\n",
        "print(\"Mediana das temperaturas:\", mediana)\n",
        "\n",
        "\n",
        "q1 = np.percentile(temperaturas, 25)\n",
        "q3 = np.percentile(temperaturas, 75)\n",
        "\n",
        "iqr = q3 - q1\n",
        "\n",
        "print(\"Intervalo interquartil das temperaturas:\", iqr)\n"
      ],
      "metadata": {
        "colab": {
          "base_uri": "https://localhost:8080/"
        },
        "id": "LU1pZQnAYnlY",
        "outputId": "b17423b2-626b-4d26-82fb-21fab3b0dd69"
      },
      "execution_count": 55,
      "outputs": [
        {
          "output_type": "stream",
          "name": "stdout",
          "text": [
            "Média das temperaturas: 24.857142857142858\n",
            "Desvio padrão das temperaturas: 3.8795644611429343\n",
            "Mediana das temperaturas: 25.0\n",
            "Intervalo interquartil das temperaturas: 6.25\n"
          ]
        }
      ]
    }
  ]
}